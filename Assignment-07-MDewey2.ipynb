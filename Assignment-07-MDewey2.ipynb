{
 "metadata": {
  "name": "",
  "signature": "sha256:03d21e0e9b29ab47e4b744a78cb42648bf81580608936ea02f7c874d739960ba"
 },
 "nbformat": 3,
 "nbformat_minor": 0,
 "worksheets": [
  {
   "cells": [
    {
     "cell_type": "code",
     "collapsed": false,
     "input": [
      "from IPython.core.display import HTML\n",
      "def css_styling():\n",
      "    styles = open(\"../styles/custom.css\", \"r\").read()\n",
      "    return HTML(styles)\n",
      "css_styling()"
     ],
     "language": "python",
     "metadata": {
      "cellrole": "header"
     },
     "outputs": [
      {
       "html": [
        "<link href='http://fonts.googleapis.com/css?family=Fenix' rel='stylesheet' type='text/css'>\n",
        "<link href='http://fonts.googleapis.com/css?family=Alegreya+Sans:100,300,400,500,700,800,900,100italic,300italic,400italic,500italic,700italic,800italic,900italic' rel='stylesheet' type='text/css'>\n",
        "<link href='http://fonts.googleapis.com/css?family=Source+Code+Pro:300,400' rel='stylesheet' type='text/css'>\n",
        "<style>\n",
        "    @font-face {\n",
        "        font-family: \"Computer Modern\";\n",
        "        src: url('http://mirrors.ctan.org/fonts/cm-unicode/fonts/otf/cmunss.otf');\n",
        "    }\n",
        "    div.cell{\n",
        "        width:800px;\n",
        "        margin-left:5% !important;\n",
        "        margin-right:auto;\n",
        "    }\n",
        "    h1 {\n",
        "        font-family: 'Alegreya Sans', sans-serif;\n",
        "    }\n",
        "    h2 {\n",
        "        font-family: 'Alegreya Sans', sans-serif;\n",
        "        color:#CD2305;\n",
        "    }\n",
        "    h3{\n",
        "\t\tfont-family: 'Fenix', serif;\n",
        "        margin-top:12px;\n",
        "        margin-bottom: 3px;\n",
        "        color:#CD2305;\n",
        "       }\n",
        "\th4{\n",
        "\t\tfont-family: 'Fenix', serif;\n",
        "        color:#CD2305;\n",
        "       }\n",
        "    h5 {\n",
        "        font-family: 'Alegreya Sans', sans-serif;\n",
        "        color:#CD2305;\n",
        "    }\t   \n",
        "    div.text_cell_render{\n",
        "        font-family: 'Alegreya Sans',Computer Modern, \"Helvetica Neue\", Arial, Helvetica, Geneva, sans-serif; \n",
        "        /*font-family: 'Alegreya Sans', sans-serif;*/\n",
        "        font-size: 120%;\n",
        "        line-height: 120%;\n",
        "        width:55em;\n",
        "        margin-left:-10% !important;\n",
        "\n",
        "    }\n",
        "    .CodeMirror{\n",
        "            font-family: 'Bitstream Vera Sans Mono','Lucida Console',monospace;\n",
        "\t\t\tfont-size: 90%;\n",
        "    }\n",
        "/*    .prompt{\n",
        "        display: None;\n",
        "    }*/\n",
        "    .text_cell_render h1 {\n",
        "        font-weight: 200;\n",
        "        font-size: 24pt;\n",
        "\t\tline-height: 100%;\n",
        "        color:#CD2305;\n",
        "        margin-bottom: 0.5em;\n",
        "        margin-top: 0.5em;\n",
        "        display: block;\n",
        "    }\t\n",
        "    .text_cell_render h5 {\n",
        "        font-weight: 300;\n",
        "        font-size: 16pt;\n",
        "        color: #CD2305;\n",
        "        font-style: italic;\n",
        "        margin-bottom: .5em;\n",
        "        margin-top: 0.5em;\n",
        "        display: block;\n",
        "    }\n",
        "    \n",
        "    .warning{\n",
        "        color: rgb( 240, 20, 20 )\n",
        "        }  \n",
        "</style>\n",
        "<script>\n",
        "    MathJax.Hub.Config({\n",
        "                        TeX: {\n",
        "                           extensions: [\"AMSmath.js\"]\n",
        "                           },\n",
        "                tex2jax: {\n",
        "                    inlineMath: [ ['$','$'], [\"\\\\(\",\"\\\\)\"] ],\n",
        "                    displayMath: [ ['$$','$$'], [\"\\\\[\",\"\\\\]\"] ]\n",
        "                },\n",
        "                displayAlign: 'center', // Change this to 'center' to center equations.\n",
        "                \"HTML-CSS\": {\n",
        "                    styles: {'.MathJax_Display': {\"margin\": 4}}\n",
        "                }\n",
        "        });\n",
        "</script>"
       ],
       "metadata": {},
       "output_type": "pyout",
       "prompt_number": 77,
       "text": [
        "<IPython.core.display.HTML at 0x10ae95590>"
       ]
      }
     ],
     "prompt_number": 77
    },
    {
     "cell_type": "markdown",
     "metadata": {},
     "source": [
      "<figure>\n",
      "<IMG SRC=\"../lectures/images/PhysicsLogo.jpg\" WIDTH=100 ALIGN=\"right\">\n",
      "</figure>\n",
      "# [Physics 411](http://jklymak.github.io/Phy411/) Time Series Analysis\n",
      "*Jody Klymak*\n"
     ]
    },
    {
     "cell_type": "heading",
     "level": 1,
     "metadata": {},
     "source": [
      "Assignment 7"
     ]
    },
    {
     "cell_type": "heading",
     "level": 3,
     "metadata": {},
     "source": [
      "**Q1** Frequency-domain filtering"
     ]
    },
    {
     "cell_type": "markdown",
     "metadata": {},
     "source": [
      "<div style='background:#F0F0F0'>  Consider a time series with a sharp jump in the middle as in the notes:\n",
      "</div>"
     ]
    },
    {
     "cell_type": "code",
     "collapsed": false,
     "input": [
      "import numpy as np\n",
      "import matplotlib.mlab as mlab\n",
      "import scipy.stats as stats\n",
      "import matplotlib.pyplot as plt\n",
      "import math \n",
      "import cmath\n",
      "import scipy.signal as signal\n",
      "%matplotlib inline"
     ],
     "language": "python",
     "metadata": {},
     "outputs": [],
     "prompt_number": 1
    },
    {
     "cell_type": "code",
     "collapsed": false,
     "input": [
      "N=1001\n",
      "dt=1.\n",
      "t=np.arange(0,N*dt,dt)\n",
      "\n",
      "x = np.cumsum(np.random.randn(N)) # red noise\n",
      "f0=0.03 # Hz\n",
      "x = x+ 40.*np.sin(f0*2*np.pi*t) # + sine wave\n",
      "x=x-np.mean(x)\n",
      "noise = 60.*np.random.randn(N)\n",
      "xn = x+noise\n",
      "xn[N/2:]=xn[N/2:]-2000.\n",
      "# remove the mean!!\n",
      "xn = xn-np.mean(xn)"
     ],
     "language": "python",
     "metadata": {},
     "outputs": [],
     "prompt_number": 27
    },
    {
     "cell_type": "markdown",
     "metadata": {},
     "source": [
      "<div style='background:#F0F0F0'>**1** Implement a low-pass filter of the data in the frequency domain, with a cutoff frequency of $f_c=0.06\\ Hz$.</div>\n",
      "   \n",
      "  1. plot the signal and the smoothed signal (suggest zooming in on the step).\n",
      "  2. plot the spectral response $|H(f)|$\n",
      "  3. plot the phase response $\\mathrm{angle}(H(f))$.\n",
      "\n",
      "<div style='background:#F0F0F0'>\n",
      "Be sure to comment on how good your filter is.\n",
      "</div>"
     ]
    },
    {
     "cell_type": "code",
     "collapsed": false,
     "input": [
      "fc = 0.06\n",
      "fs = 1.0\n",
      "nfft = N/10\n",
      "X = np.fft.fft(xn)\n",
      "#N = np.shape(xn)[0]\n",
      "#ff = np.linspace(0,1./dt,N)\n",
      "# Note that because the FFT is symetric we have to mask some of the high frequencies as well\n",
      "#X[(ff>fc) & (ff<(1./dt-fc))]=1.e-15\n",
      "# There is a strange bug in psd that makes adding this little bit of noise necessary.\n",
      "#y = np.real(np.fft.ifft(X))+1.e-17*np.random.randn(N)\n",
      "#py,fy = mlab.psd(y,NFFT=nfft,Fs=1./dt)\n",
      "\n",
      "\n",
      "M = fc*2*N+1\n",
      "k = np.array(range(-N/2+1,N/2))\n",
      "m= k*1.\n",
      "H = 0.*k+1.\n",
      "H[(np.abs(m)>(M)/2)]=0.\n",
      "h1 = np.abs(np.fft.fftshift(np.fft.ifft(np.fft.fftshift(H))))\n",
      "h2 = (1./N)*np.sin(np.pi*(k+0.000001)*M/N)/np.sin(np.pi*(k+0.000001)/N)\n",
      "H2 = np.fft.fftshift(np.fft.fft(h2))\n",
      "H2 = np.abs(H2)\n",
      "\n",
      "\n",
      "Y = np.convolve(H2,X)\n",
      "y = np.real(np.fft.ifft(X))\n",
      "fig,ax=plt.subplots(2,1,figsize=(8,8))\n",
      "ax[0].plot(t[400:600],xn[400:600],'k',label='signal+noise')\n",
      "ax[0].plot(t[400:600],y[400:600],'r',label='filtered')\n",
      "ax[0].set_xlabel('t [s]')\n",
      "ax[0].set_ylabel('x [V]')\n",
      "ax[0].legend()\n"
     ],
     "language": "python",
     "metadata": {},
     "outputs": [
      {
       "metadata": {},
       "output_type": "pyout",
       "prompt_number": 34,
       "text": [
        "<matplotlib.legend.Legend at 0x18c99da0>"
       ]
      },
      {
       "metadata": {},
       "output_type": "display_data",
       "png": "[encoded data removed]",
       "text": [
        "<matplotlib.figure.Figure at 0x17304d68>"
       ]
      }
     ],
     "prompt_number": 34
    },
    {
     "cell_type": "markdown",
     "metadata": {},
     "source": [
      "COMMENT HERE:"
     ]
    },
    {
     "cell_type": "markdown",
     "metadata": {},
     "source": [
      "<div style='background:#F0F0F0'>**2** Now repeat the above but apply a Hanning window to the frequency window *before* you apply it to the FFT of $x_n$.  Comment on how well the filter is doing when you do this.  (Its helpful to keep the previous result up)\n",
      "</div>"
     ]
    },
    {
     "cell_type": "code",
     "collapsed": false,
     "input": [],
     "language": "python",
     "metadata": {},
     "outputs": [],
     "prompt_number": 0
    },
    {
     "cell_type": "markdown",
     "metadata": {},
     "source": [
      "COMMENT"
     ]
    },
    {
     "cell_type": "markdown",
     "metadata": {},
     "source": [
      "<div style='background:#F0F0F0'>**3** So the Hanning window falls off a *lot* earlier and more slowly than a step function, so adjust the cutoff frequency to get a reasonable filter that preserves the amplitude of the sine wave at $f=0.03\\ \\mathrm{Hz}$.  Comment on the pros and cons of this approach.  \n",
      "</div>"
     ]
    },
    {
     "cell_type": "code",
     "collapsed": false,
     "input": [],
     "language": "python",
     "metadata": {},
     "outputs": [],
     "prompt_number": 0
    },
    {
     "cell_type": "markdown",
     "metadata": {},
     "source": [
      "COMMENT HERE"
     ]
    },
    {
     "cell_type": "heading",
     "level": 2,
     "metadata": {},
     "source": [
      "Q2: Implementing a bandpass filter"
     ]
    },
    {
     "cell_type": "markdown",
     "metadata": {},
     "source": [
      "<div style='background:#F0F0F0'>**1** Create a red-noise process with 20000 data points, $dt=1\\ s$.  Using a **truncated Dirichlet Kernel**, create a **bandpass** filter centered at $f_c=0.1\\ Hz$ that has a passband that is approximately 0.1 Hz wide. Choose a filter length that is long enough to accomodate 0.1 Hz. \n",
      "</div>\n",
      "\n",
      "   1. Plot the unshifted and shifted filters versus $k$, the time index.\n",
      "   2. Plot the spectra, the response function $H^2(f)$ and the phase response\n",
      "   3. Comment on your bandpass and if it indeed passed the right frequencies.\n",
      "\n",
      "HINT: when you make the Dirichlet Kernel filter make sure that the $k=0$ case is treated \"correctly\" because $sin(0)=0$ and you will get a discontinuity.  Calculate what $h_0$ should be from [L'H\u00f4pital's_rule](http://en.wikipedia.org/wiki/L'H\u00f4pital's_rule)."
     ]
    },
    {
     "cell_type": "code",
     "collapsed": false,
     "input": [],
     "language": "python",
     "metadata": {},
     "outputs": [],
     "prompt_number": 0
    },
    {
     "cell_type": "code",
     "collapsed": false,
     "input": [],
     "language": "python",
     "metadata": {},
     "outputs": [],
     "prompt_number": 0
    },
    {
     "cell_type": "markdown",
     "metadata": {},
     "source": [
      "COMMENT"
     ]
    },
    {
     "cell_type": "heading",
     "level": 2,
     "metadata": {},
     "source": [
      "Q3: Bandpass the weather data"
     ]
    },
    {
     "cell_type": "code",
     "collapsed": false,
     "input": [
      "minutedata=np.genfromtxt('http://web.uvic.ca/~jklymak/Phy411/Data/MinuteData/DeepCoveNew.txt')[:,1]\n",
      "\n",
      "dc=minutedata[isfinite(minutedata)]\n",
      "import scipy.signal as signal"
     ],
     "language": "python",
     "metadata": {},
     "outputs": [],
     "prompt_number": 29
    },
    {
     "cell_type": "markdown",
     "metadata": {},
     "source": [
      "<p><div style='background:#F0F0F0'>\n",
      "**1** Using `signal.filtfilt` and suitable  \"elliptical\", filters band pass the daily signal from the minute-data from Deep Cove.  Plot the power spectrum of the unfiltered and filtered signals. </div>\n",
      "</p>\n",
      "<p>\n",
      "<div style='background:#F0F0F0'>\n",
      "HINT: Do a high pass and low pass.  Design using `ellipord` and `ellip`.  These functions allow you to try and design a bandpass directly, but I could not get it to work.  Do not be too draconian in your passband - i.e. make it relatively broad, but do try and suppress the peaks.  I found it easier to think in terms of \"hours\" rather than frequencies, but you can do it as frequencies as well.\n",
      "</div>\n",
      "</p>"
     ]
    },
    {
     "cell_type": "code",
     "collapsed": false,
     "input": [],
     "language": "python",
     "metadata": {},
     "outputs": [],
     "prompt_number": 0
    },
    {
     "cell_type": "code",
     "collapsed": false,
     "input": [],
     "language": "python",
     "metadata": {},
     "outputs": [],
     "prompt_number": 1
    },
    {
     "cell_type": "markdown",
     "metadata": {},
     "source": [
      "<div style='background:#F0F0F0'> **2** Using your band passed signal, plot the *amplitude* of the daily cycle as a function of time, smoothed over a suitable time period. Compare with the raw timeseries to make sure your amplitudes make sense. Comment on the annual variation in the daily amplitude and if it makes sense with respect to the seasons.\n",
      "</div>"
     ]
    },
    {
     "cell_type": "code",
     "collapsed": false,
     "input": [],
     "language": "python",
     "metadata": {},
     "outputs": [],
     "prompt_number": 1
    },
    {
     "cell_type": "markdown",
     "metadata": {},
     "source": [
      "COMMENT HERE"
     ]
    },
    {
     "cell_type": "code",
     "collapsed": false,
     "input": [],
     "language": "python",
     "metadata": {},
     "outputs": []
    }
   ],
   "metadata": {}
  }
 ]
}